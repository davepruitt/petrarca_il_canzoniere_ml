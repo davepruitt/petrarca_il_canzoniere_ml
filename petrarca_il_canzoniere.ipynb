{
  "nbformat": 4,
  "nbformat_minor": 0,
  "metadata": {
    "colab": {
      "provenance": [],
      "gpuType": "T4",
      "authorship_tag": "ABX9TyOMOVfM6QkBvV4DmELyDSIj",
      "include_colab_link": true
    },
    "kernelspec": {
      "name": "python3",
      "display_name": "Python 3"
    },
    "language_info": {
      "name": "python"
    },
    "accelerator": "GPU"
  },
  "cells": [
    {
      "cell_type": "markdown",
      "metadata": {
        "id": "view-in-github",
        "colab_type": "text"
      },
      "source": [
        "<a href=\"https://colab.research.google.com/github/davepruitt/petrarca_il_canzoniere_ml/blob/main/petrarca_il_canzoniere.ipynb\" target=\"_parent\"><img src=\"https://colab.research.google.com/assets/colab-badge.svg\" alt=\"Open In Colab\"/></a>"
      ]
    },
    {
      "cell_type": "code",
      "execution_count": 1,
      "metadata": {
        "id": "OkJZ-uNj1zH3"
      },
      "outputs": [],
      "source": [
        "# Imports\n",
        "\n",
        "import numpy as np\n",
        "import matplotlib.pyplot as plt\n",
        "from tensorflow.keras.models import Sequential\n",
        "from tensorflow.keras.utils import to_categorical\n",
        "from tensorflow.keras.preprocessing.text import Tokenizer\n",
        "from tensorflow.keras.preprocessing.sequence import pad_sequences\n",
        "from tensorflow.keras.layers import Embedding, LSTM, Dense, Bidirectional"
      ]
    },
    {
      "cell_type": "code",
      "source": [
        "#We need to somehow access the text. For now, let's just have the user upload it.\n",
        "from google.colab import files\n",
        "uploaded = files.upload()\n",
        "\n",
        "file_name = \"\"\n",
        "for fn in uploaded.keys():\n",
        "    file_name = fn\n",
        "    print(\"User uploaded file {name} with {length} bytes\".format(name=fn, length=len(uploaded[fn])))\n"
      ],
      "metadata": {
        "colab": {
          "base_uri": "https://localhost:8080/",
          "height": 90
        },
        "id": "MpVS-NBY2Ay8",
        "outputId": "5e84d942-5894-49ac-a6eb-8db1dcf1d245"
      },
      "execution_count": 2,
      "outputs": [
        {
          "output_type": "display_data",
          "data": {
            "text/plain": [
              "<IPython.core.display.HTML object>"
            ],
            "text/html": [
              "\n",
              "     <input type=\"file\" id=\"files-907f92d7-c35a-4d65-88dc-23accf2297dd\" name=\"files[]\" multiple disabled\n",
              "        style=\"border:none\" />\n",
              "     <output id=\"result-907f92d7-c35a-4d65-88dc-23accf2297dd\">\n",
              "      Upload widget is only available when the cell has been executed in the\n",
              "      current browser session. Please rerun this cell to enable.\n",
              "      </output>\n",
              "      <script>// Copyright 2017 Google LLC\n",
              "//\n",
              "// Licensed under the Apache License, Version 2.0 (the \"License\");\n",
              "// you may not use this file except in compliance with the License.\n",
              "// You may obtain a copy of the License at\n",
              "//\n",
              "//      http://www.apache.org/licenses/LICENSE-2.0\n",
              "//\n",
              "// Unless required by applicable law or agreed to in writing, software\n",
              "// distributed under the License is distributed on an \"AS IS\" BASIS,\n",
              "// WITHOUT WARRANTIES OR CONDITIONS OF ANY KIND, either express or implied.\n",
              "// See the License for the specific language governing permissions and\n",
              "// limitations under the License.\n",
              "\n",
              "/**\n",
              " * @fileoverview Helpers for google.colab Python module.\n",
              " */\n",
              "(function(scope) {\n",
              "function span(text, styleAttributes = {}) {\n",
              "  const element = document.createElement('span');\n",
              "  element.textContent = text;\n",
              "  for (const key of Object.keys(styleAttributes)) {\n",
              "    element.style[key] = styleAttributes[key];\n",
              "  }\n",
              "  return element;\n",
              "}\n",
              "\n",
              "// Max number of bytes which will be uploaded at a time.\n",
              "const MAX_PAYLOAD_SIZE = 100 * 1024;\n",
              "\n",
              "function _uploadFiles(inputId, outputId) {\n",
              "  const steps = uploadFilesStep(inputId, outputId);\n",
              "  const outputElement = document.getElementById(outputId);\n",
              "  // Cache steps on the outputElement to make it available for the next call\n",
              "  // to uploadFilesContinue from Python.\n",
              "  outputElement.steps = steps;\n",
              "\n",
              "  return _uploadFilesContinue(outputId);\n",
              "}\n",
              "\n",
              "// This is roughly an async generator (not supported in the browser yet),\n",
              "// where there are multiple asynchronous steps and the Python side is going\n",
              "// to poll for completion of each step.\n",
              "// This uses a Promise to block the python side on completion of each step,\n",
              "// then passes the result of the previous step as the input to the next step.\n",
              "function _uploadFilesContinue(outputId) {\n",
              "  const outputElement = document.getElementById(outputId);\n",
              "  const steps = outputElement.steps;\n",
              "\n",
              "  const next = steps.next(outputElement.lastPromiseValue);\n",
              "  return Promise.resolve(next.value.promise).then((value) => {\n",
              "    // Cache the last promise value to make it available to the next\n",
              "    // step of the generator.\n",
              "    outputElement.lastPromiseValue = value;\n",
              "    return next.value.response;\n",
              "  });\n",
              "}\n",
              "\n",
              "/**\n",
              " * Generator function which is called between each async step of the upload\n",
              " * process.\n",
              " * @param {string} inputId Element ID of the input file picker element.\n",
              " * @param {string} outputId Element ID of the output display.\n",
              " * @return {!Iterable<!Object>} Iterable of next steps.\n",
              " */\n",
              "function* uploadFilesStep(inputId, outputId) {\n",
              "  const inputElement = document.getElementById(inputId);\n",
              "  inputElement.disabled = false;\n",
              "\n",
              "  const outputElement = document.getElementById(outputId);\n",
              "  outputElement.innerHTML = '';\n",
              "\n",
              "  const pickedPromise = new Promise((resolve) => {\n",
              "    inputElement.addEventListener('change', (e) => {\n",
              "      resolve(e.target.files);\n",
              "    });\n",
              "  });\n",
              "\n",
              "  const cancel = document.createElement('button');\n",
              "  inputElement.parentElement.appendChild(cancel);\n",
              "  cancel.textContent = 'Cancel upload';\n",
              "  const cancelPromise = new Promise((resolve) => {\n",
              "    cancel.onclick = () => {\n",
              "      resolve(null);\n",
              "    };\n",
              "  });\n",
              "\n",
              "  // Wait for the user to pick the files.\n",
              "  const files = yield {\n",
              "    promise: Promise.race([pickedPromise, cancelPromise]),\n",
              "    response: {\n",
              "      action: 'starting',\n",
              "    }\n",
              "  };\n",
              "\n",
              "  cancel.remove();\n",
              "\n",
              "  // Disable the input element since further picks are not allowed.\n",
              "  inputElement.disabled = true;\n",
              "\n",
              "  if (!files) {\n",
              "    return {\n",
              "      response: {\n",
              "        action: 'complete',\n",
              "      }\n",
              "    };\n",
              "  }\n",
              "\n",
              "  for (const file of files) {\n",
              "    const li = document.createElement('li');\n",
              "    li.append(span(file.name, {fontWeight: 'bold'}));\n",
              "    li.append(span(\n",
              "        `(${file.type || 'n/a'}) - ${file.size} bytes, ` +\n",
              "        `last modified: ${\n",
              "            file.lastModifiedDate ? file.lastModifiedDate.toLocaleDateString() :\n",
              "                                    'n/a'} - `));\n",
              "    const percent = span('0% done');\n",
              "    li.appendChild(percent);\n",
              "\n",
              "    outputElement.appendChild(li);\n",
              "\n",
              "    const fileDataPromise = new Promise((resolve) => {\n",
              "      const reader = new FileReader();\n",
              "      reader.onload = (e) => {\n",
              "        resolve(e.target.result);\n",
              "      };\n",
              "      reader.readAsArrayBuffer(file);\n",
              "    });\n",
              "    // Wait for the data to be ready.\n",
              "    let fileData = yield {\n",
              "      promise: fileDataPromise,\n",
              "      response: {\n",
              "        action: 'continue',\n",
              "      }\n",
              "    };\n",
              "\n",
              "    // Use a chunked sending to avoid message size limits. See b/62115660.\n",
              "    let position = 0;\n",
              "    do {\n",
              "      const length = Math.min(fileData.byteLength - position, MAX_PAYLOAD_SIZE);\n",
              "      const chunk = new Uint8Array(fileData, position, length);\n",
              "      position += length;\n",
              "\n",
              "      const base64 = btoa(String.fromCharCode.apply(null, chunk));\n",
              "      yield {\n",
              "        response: {\n",
              "          action: 'append',\n",
              "          file: file.name,\n",
              "          data: base64,\n",
              "        },\n",
              "      };\n",
              "\n",
              "      let percentDone = fileData.byteLength === 0 ?\n",
              "          100 :\n",
              "          Math.round((position / fileData.byteLength) * 100);\n",
              "      percent.textContent = `${percentDone}% done`;\n",
              "\n",
              "    } while (position < fileData.byteLength);\n",
              "  }\n",
              "\n",
              "  // All done.\n",
              "  yield {\n",
              "    response: {\n",
              "      action: 'complete',\n",
              "    }\n",
              "  };\n",
              "}\n",
              "\n",
              "scope.google = scope.google || {};\n",
              "scope.google.colab = scope.google.colab || {};\n",
              "scope.google.colab._files = {\n",
              "  _uploadFiles,\n",
              "  _uploadFilesContinue,\n",
              "};\n",
              "})(self);\n",
              "</script> "
            ]
          },
          "metadata": {}
        },
        {
          "output_type": "stream",
          "name": "stdout",
          "text": [
            "Saving petrarca_il_canzoniere.txt to petrarca_il_canzoniere.txt\n",
            "User uploaded file petrarca_il_canzoniere.txt with 294981 bytes\n"
          ]
        }
      ]
    },
    {
      "cell_type": "code",
      "source": [
        "#Let's get the full text and decode it using the \"latin1\" encoding.\n",
        "full_text = uploaded[file_name].decode(\"latin1\")\n",
        "\n",
        "#Convert the full text to lowercase\n",
        "full_text = full_text.lower()\n",
        "\n",
        "#Print the first 100 characters just as a sanity check to see if it looks right.\n",
        "print(full_text[0:100])"
      ],
      "metadata": {
        "colab": {
          "base_uri": "https://localhost:8080/"
        },
        "id": "aMjp2Z4G3Lls",
        "outputId": "055d9fa4-603d-46c7-c807-82b506e57f88"
      },
      "execution_count": 3,
      "outputs": [
        {
          "output_type": "stream",
          "name": "stdout",
          "text": [
            "il canzoniere (rerum vulgarium fragmenta)\n",
            "di francesco petrarca\n",
            "\n",
            "\n",
            "\n",
            "1\n",
            "\n",
            "voi ch'ascoltate in rime spars\n"
          ]
        }
      ]
    },
    {
      "cell_type": "code",
      "source": [
        "#Now let's split the text into a list of lines\n",
        "corpus = full_text.splitlines()\n",
        "\n",
        "print(f\"Total lines: {len(corpus)}\")\n",
        "print(\"First 10 lines:\")\n",
        "\n",
        "#Print the first several lines as a sanity check\n",
        "for i in range(0, 10):\n",
        "    print(corpus[i])"
      ],
      "metadata": {
        "colab": {
          "base_uri": "https://localhost:8080/"
        },
        "id": "HC2zz2LT5vxH",
        "outputId": "2840b6bf-e2c0-4d56-aaba-f9a8fb7414d9"
      },
      "execution_count": 4,
      "outputs": [
        {
          "output_type": "stream",
          "name": "stdout",
          "text": [
            "Total lines: 10480\n",
            "First 10 lines:\n",
            "il canzoniere (rerum vulgarium fragmenta)\n",
            "di francesco petrarca\n",
            "\n",
            "\n",
            "\n",
            "1\n",
            "\n",
            "voi ch'ascoltate in rime sparse il suono\n",
            "di quei sospiri ond'io nudriva 'l core\n",
            "in sul mio primo giovenile errore\n"
          ]
        }
      ]
    },
    {
      "cell_type": "code",
      "source": [
        "#Now let's get rid of all lines that are only white-space, or empty lines, or lines that contain a number\n",
        "\n",
        "def is_line_ok(current_line):\n",
        "    stripped_line = current_line.strip()\n",
        "    return (len(stripped_line) > 0) and (not stripped_line.isnumeric())\n",
        "\n",
        "corpus = [x for x in corpus if is_line_ok(x)]\n",
        "\n",
        "print(f\"Total lines: {len(corpus)}\")\n",
        "print(\"First 10 lines:\")\n",
        "\n",
        "#Print the first several lines as a sanity check\n",
        "for i in range(0, 10):\n",
        "    print(corpus[i])"
      ],
      "metadata": {
        "colab": {
          "base_uri": "https://localhost:8080/"
        },
        "id": "aWahhA496Qx_",
        "outputId": "40539cf4-8ebf-4ffe-dd92-c7dbea306549"
      },
      "execution_count": 5,
      "outputs": [
        {
          "output_type": "stream",
          "name": "stdout",
          "text": [
            "Total lines: 7787\n",
            "First 10 lines:\n",
            "il canzoniere (rerum vulgarium fragmenta)\n",
            "di francesco petrarca\n",
            "voi ch'ascoltate in rime sparse il suono\n",
            "di quei sospiri ond'io nudriva 'l core\n",
            "in sul mio primo giovenile errore\n",
            "quand'era in parte altr'uom da quel ch'i' sono,\n",
            "del vario stile in ch'io piango et ragiono\n",
            "fra le vane speranze e 'l van dolore,\n",
            "ove sia chi per prova intenda amore,\n",
            "spero trovar pietà, nonché perdono.\n"
          ]
        }
      ]
    },
    {
      "cell_type": "code",
      "source": [
        "#Create a tokenizer for the text\n",
        "\n",
        "tokenizer = Tokenizer()\n",
        "tokenizer.fit_on_texts(corpus)\n",
        "total_words = len(tokenizer.word_index) + 1\n",
        "\n",
        "print(f\"Total words: {total_words}\")"
      ],
      "metadata": {
        "colab": {
          "base_uri": "https://localhost:8080/"
        },
        "id": "vj1IN0WC7-Ee",
        "outputId": "74301633-f473-4516-a34c-a22d3fd02052"
      },
      "execution_count": 6,
      "outputs": [
        {
          "output_type": "stream",
          "name": "stdout",
          "text": [
            "Total words: 7957\n"
          ]
        }
      ]
    },
    {
      "cell_type": "code",
      "source": [
        "def n_gram_seqs(corpus, tokenizer):\n",
        "    '''\n",
        "    Generates a list of n-gram sequences\n",
        "    '''\n",
        "\n",
        "    input_sequences = []\n",
        "    for line in corpus:\n",
        "        token_list = tokenizer.texts_to_sequences([line])[0]\n",
        "\n",
        "        for i in range(1, len(token_list)):\n",
        "            n_gram_sequence = token_list[:i+1]\n",
        "            input_sequences.append(n_gram_sequence)\n",
        "\n",
        "    return input_sequences"
      ],
      "metadata": {
        "id": "HK_u9qn48nkc"
      },
      "execution_count": 7,
      "outputs": []
    },
    {
      "cell_type": "code",
      "source": [
        "#Let's test the n_grams_seqs function\n",
        "first_example_sequence = n_gram_seqs([corpus[0]], tokenizer)\n",
        "\n",
        "print(\"n_gram sequences for first example look like this:\\n\")\n",
        "first_example_sequence"
      ],
      "metadata": {
        "colab": {
          "base_uri": "https://localhost:8080/"
        },
        "id": "g_48_byJ9An8",
        "outputId": "3872c3d1-52b1-480c-9ab8-be9bcb029490"
      },
      "execution_count": 8,
      "outputs": [
        {
          "output_type": "stream",
          "name": "stdout",
          "text": [
            "n_gram sequences for first example look like this:\n",
            "\n"
          ]
        },
        {
          "output_type": "execute_result",
          "data": {
            "text/plain": [
              "[[9, 3512],\n",
              " [9, 3512, 3513],\n",
              " [9, 3512, 3513, 3514],\n",
              " [9, 3512, 3513, 3514, 3515]]"
            ]
          },
          "metadata": {},
          "execution_count": 8
        }
      ]
    },
    {
      "cell_type": "code",
      "source": [
        "#Apply the n_gram_seqs transformation to the whole corpus\n",
        "input_sequences = n_gram_seqs(corpus, tokenizer)\n",
        "\n",
        "#Save the max length\n",
        "max_sequence_len = max([len(x) for x in input_sequences])\n",
        "print(f\"n_grams of input_sequences have length: {len(input_sequences)}\")\n",
        "print(f\"maximum length of sequences is: {max_sequence_len}\")"
      ],
      "metadata": {
        "colab": {
          "base_uri": "https://localhost:8080/"
        },
        "id": "_yEcs3LE9VfC",
        "outputId": "06c80c43-70b0-4fb9-db22-ed9d49ab0588"
      },
      "execution_count": 9,
      "outputs": [
        {
          "output_type": "stream",
          "name": "stdout",
          "text": [
            "n_grams of input_sequences have length: 45963\n",
            "maximum length of sequences is: 12\n"
          ]
        }
      ]
    },
    {
      "cell_type": "code",
      "source": [
        "#Pad the whole corpus\n",
        "input_sequences = pad_sequences(input_sequences, maxlen=max_sequence_len, padding=\"pre\")\n",
        "\n",
        "print(f\"Padded corpus has shape: {input_sequences.shape}\")"
      ],
      "metadata": {
        "colab": {
          "base_uri": "https://localhost:8080/"
        },
        "id": "JcIMM-xp9t27",
        "outputId": "400416ad-7a83-4ab6-95fd-02a273d01d81"
      },
      "execution_count": 10,
      "outputs": [
        {
          "output_type": "stream",
          "name": "stdout",
          "text": [
            "Padded corpus has shape: (45963, 12)\n"
          ]
        }
      ]
    },
    {
      "cell_type": "code",
      "source": [
        "def features_and_labels(input_sequences, total_words):\n",
        "    '''\n",
        "    Generates features and labels from n-grams\n",
        "    '''\n",
        "\n",
        "    features = input_sequences[:, :-1]\n",
        "    labels = input_sequences[:, -1]\n",
        "    one_hot_labels = to_categorical(labels, num_classes=total_words)\n",
        "\n",
        "    return features, one_hot_labels"
      ],
      "metadata": {
        "id": "tjX-J3MQ-Fa_"
      },
      "execution_count": 11,
      "outputs": []
    },
    {
      "cell_type": "code",
      "source": [
        "#Test the features_and_labels function:\n",
        "features, labels = features_and_labels(input_sequences, total_words)\n",
        "\n",
        "print(f\"features have shape: {features.shape}\")\n",
        "print(f\"labels have shape: {labels.shape}\")"
      ],
      "metadata": {
        "colab": {
          "base_uri": "https://localhost:8080/"
        },
        "id": "lKJDuNIl-r5B",
        "outputId": "244163bc-20bb-4c8a-ce69-b40896d62d19"
      },
      "execution_count": 12,
      "outputs": [
        {
          "output_type": "stream",
          "name": "stdout",
          "text": [
            "features have shape: (45963, 11)\n",
            "labels have shape: (45963, 7957)\n"
          ]
        }
      ]
    },
    {
      "cell_type": "code",
      "source": [
        "def create_model (total_words, max_sequence_len):\n",
        "    '''\n",
        "    Creates a text generator model\n",
        "    '''\n",
        "\n",
        "    model = Sequential()\n",
        "    model.add(Embedding(total_words, 100, input_length=max_sequence_len-1))\n",
        "    model.add(Bidirectional(LSTM(150)))\n",
        "    model.add(Dense(total_words, activation=\"softmax\"))\n",
        "\n",
        "    model.compile(loss=\"categorical_crossentropy\", optimizer=\"adam\", metrics=[\"accuracy\"])\n",
        "\n",
        "    return model\n"
      ],
      "metadata": {
        "id": "1WSv2DAe-y4A"
      },
      "execution_count": 15,
      "outputs": []
    },
    {
      "cell_type": "code",
      "source": [
        "# Get the untrained model\n",
        "model = create_model(total_words, max_sequence_len)\n",
        "\n",
        "# Train the model\n",
        "history = model.fit(features, labels, epochs=50, verbose=1)"
      ],
      "metadata": {
        "colab": {
          "base_uri": "https://localhost:8080/"
        },
        "id": "q1fj2LLZ_Kzd",
        "outputId": "244382e7-39df-40fa-94a2-a3e99b3d554d"
      },
      "execution_count": 16,
      "outputs": [
        {
          "output_type": "stream",
          "name": "stdout",
          "text": [
            "Epoch 1/50\n",
            "1437/1437 [==============================] - 29s 17ms/step - loss: 7.3172 - accuracy: 0.0440\n",
            "Epoch 2/50\n",
            "1437/1437 [==============================] - 16s 11ms/step - loss: 6.6371 - accuracy: 0.0711\n",
            "Epoch 3/50\n",
            "1437/1437 [==============================] - 17s 12ms/step - loss: 6.1724 - accuracy: 0.0913\n",
            "Epoch 4/50\n",
            "1437/1437 [==============================] - 18s 12ms/step - loss: 5.7087 - accuracy: 0.1059\n",
            "Epoch 5/50\n",
            "1437/1437 [==============================] - 21s 15ms/step - loss: 5.2116 - accuracy: 0.1244\n",
            "Epoch 6/50\n",
            "1437/1437 [==============================] - 24s 17ms/step - loss: 4.7002 - accuracy: 0.1551\n",
            "Epoch 7/50\n",
            "1437/1437 [==============================] - 19s 13ms/step - loss: 4.2165 - accuracy: 0.2040\n",
            "Epoch 8/50\n",
            "1437/1437 [==============================] - 20s 14ms/step - loss: 3.7724 - accuracy: 0.2668\n",
            "Epoch 9/50\n",
            "1437/1437 [==============================] - 17s 12ms/step - loss: 3.3736 - accuracy: 0.3300\n",
            "Epoch 10/50\n",
            "1437/1437 [==============================] - 18s 12ms/step - loss: 3.0318 - accuracy: 0.3876\n",
            "Epoch 11/50\n",
            "1437/1437 [==============================] - 18s 12ms/step - loss: 2.7284 - accuracy: 0.4448\n",
            "Epoch 12/50\n",
            "1437/1437 [==============================] - 17s 12ms/step - loss: 2.4605 - accuracy: 0.4942\n",
            "Epoch 13/50\n",
            "1437/1437 [==============================] - 17s 12ms/step - loss: 2.2227 - accuracy: 0.5410\n",
            "Epoch 14/50\n",
            "1437/1437 [==============================] - 17s 12ms/step - loss: 2.0134 - accuracy: 0.5851\n",
            "Epoch 15/50\n",
            "1437/1437 [==============================] - 17s 12ms/step - loss: 1.8298 - accuracy: 0.6217\n",
            "Epoch 16/50\n",
            "1437/1437 [==============================] - 17s 12ms/step - loss: 1.6682 - accuracy: 0.6555\n",
            "Epoch 17/50\n",
            "1437/1437 [==============================] - 17s 12ms/step - loss: 1.5255 - accuracy: 0.6862\n",
            "Epoch 18/50\n",
            "1437/1437 [==============================] - 17s 12ms/step - loss: 1.4060 - accuracy: 0.7114\n",
            "Epoch 19/50\n",
            "1437/1437 [==============================] - 17s 12ms/step - loss: 1.2980 - accuracy: 0.7324\n",
            "Epoch 20/50\n",
            "1437/1437 [==============================] - 17s 12ms/step - loss: 1.2081 - accuracy: 0.7506\n",
            "Epoch 21/50\n",
            "1437/1437 [==============================] - 18s 12ms/step - loss: 1.1307 - accuracy: 0.7676\n",
            "Epoch 22/50\n",
            "1437/1437 [==============================] - 17s 12ms/step - loss: 1.0639 - accuracy: 0.7807\n",
            "Epoch 23/50\n",
            "1437/1437 [==============================] - 18s 13ms/step - loss: 1.0144 - accuracy: 0.7882\n",
            "Epoch 24/50\n",
            "1437/1437 [==============================] - 17s 12ms/step - loss: 0.9684 - accuracy: 0.7961\n",
            "Epoch 25/50\n",
            "1437/1437 [==============================] - 17s 12ms/step - loss: 0.9295 - accuracy: 0.8025\n",
            "Epoch 26/50\n",
            "1437/1437 [==============================] - 17s 12ms/step - loss: 0.9028 - accuracy: 0.8065\n",
            "Epoch 27/50\n",
            "1437/1437 [==============================] - 17s 12ms/step - loss: 0.8803 - accuracy: 0.8092\n",
            "Epoch 28/50\n",
            "1437/1437 [==============================] - 18s 12ms/step - loss: 0.8551 - accuracy: 0.8133\n",
            "Epoch 29/50\n",
            "1437/1437 [==============================] - 16s 11ms/step - loss: 0.8403 - accuracy: 0.8147\n",
            "Epoch 30/50\n",
            "1437/1437 [==============================] - 17s 12ms/step - loss: 0.8246 - accuracy: 0.8161\n",
            "Epoch 31/50\n",
            "1437/1437 [==============================] - 17s 12ms/step - loss: 0.8131 - accuracy: 0.8170\n",
            "Epoch 32/50\n",
            "1437/1437 [==============================] - 17s 12ms/step - loss: 0.8004 - accuracy: 0.8182\n",
            "Epoch 33/50\n",
            "1437/1437 [==============================] - 17s 12ms/step - loss: 0.7933 - accuracy: 0.8188\n",
            "Epoch 34/50\n",
            "1437/1437 [==============================] - 17s 12ms/step - loss: 0.7858 - accuracy: 0.8187\n",
            "Epoch 35/50\n",
            "1437/1437 [==============================] - 17s 12ms/step - loss: 0.7773 - accuracy: 0.8199\n",
            "Epoch 36/50\n",
            "1437/1437 [==============================] - 17s 12ms/step - loss: 0.7712 - accuracy: 0.8207\n",
            "Epoch 37/50\n",
            "1437/1437 [==============================] - 17s 12ms/step - loss: 0.7683 - accuracy: 0.8206\n",
            "Epoch 38/50\n",
            "1437/1437 [==============================] - 18s 12ms/step - loss: 0.7597 - accuracy: 0.8207\n",
            "Epoch 39/50\n",
            "1437/1437 [==============================] - 17s 12ms/step - loss: 0.7562 - accuracy: 0.8199\n",
            "Epoch 40/50\n",
            "1437/1437 [==============================] - 17s 12ms/step - loss: 0.7534 - accuracy: 0.8205\n",
            "Epoch 41/50\n",
            "1437/1437 [==============================] - 17s 12ms/step - loss: 0.7484 - accuracy: 0.8213\n",
            "Epoch 42/50\n",
            "1437/1437 [==============================] - 17s 12ms/step - loss: 0.7434 - accuracy: 0.8197\n",
            "Epoch 43/50\n",
            "1437/1437 [==============================] - 17s 12ms/step - loss: 0.7407 - accuracy: 0.8213\n",
            "Epoch 44/50\n",
            "1437/1437 [==============================] - 17s 12ms/step - loss: 0.7375 - accuracy: 0.8219\n",
            "Epoch 45/50\n",
            "1437/1437 [==============================] - 17s 12ms/step - loss: 0.7346 - accuracy: 0.8211\n",
            "Epoch 46/50\n",
            "1437/1437 [==============================] - 17s 12ms/step - loss: 0.7293 - accuracy: 0.8221\n",
            "Epoch 47/50\n",
            "1437/1437 [==============================] - 17s 12ms/step - loss: 0.7291 - accuracy: 0.8216\n",
            "Epoch 48/50\n",
            "1437/1437 [==============================] - 17s 12ms/step - loss: 0.7252 - accuracy: 0.8217\n",
            "Epoch 49/50\n",
            "1437/1437 [==============================] - 17s 12ms/step - loss: 0.7240 - accuracy: 0.8206\n",
            "Epoch 50/50\n",
            "1437/1437 [==============================] - 17s 12ms/step - loss: 0.7215 - accuracy: 0.8207\n"
          ]
        }
      ]
    },
    {
      "cell_type": "code",
      "source": [
        "# Let's take a look at the training curves of our model\n",
        "\n",
        "acc = history.history['accuracy']\n",
        "loss = history.history['loss']\n",
        "\n",
        "epochs = range(len(acc))\n",
        "\n",
        "plt.plot(epochs, acc, 'b', label='Training accuracy')\n",
        "plt.title('Training accuracy')\n",
        "\n",
        "plt.figure()\n",
        "\n",
        "plt.plot(epochs, loss, 'b', label='Training Loss')\n",
        "plt.title('Training loss')\n",
        "plt.legend()\n",
        "\n",
        "plt.show()"
      ],
      "metadata": {
        "colab": {
          "base_uri": "https://localhost:8080/",
          "height": 887
        },
        "id": "nN3nGLKY_9iq",
        "outputId": "4b6ab4d2-a477-4a73-85a5-5e7d79aae99d"
      },
      "execution_count": 17,
      "outputs": [
        {
          "output_type": "display_data",
          "data": {
            "text/plain": [
              "<Figure size 640x480 with 1 Axes>"
            ],
            "image/png": "[encoded data removed]"
          },
          "metadata": {}
        },
        {
          "output_type": "display_data",
          "data": {
            "text/plain": [
              "<Figure size 640x480 with 1 Axes>"
            ],
            "image/png": "[encoded data removed]"
          },
          "metadata": {}
        }
      ]
    },
    {
      "cell_type": "code",
      "source": [
        "#Now let's take a look at how our model does \"in action\"\n",
        "seed_text = \"Aiutami, Obi Wan Kenobi, tu sei la mia unica speranza\"\n",
        "next_words = 100\n",
        "\n",
        "for _ in range(next_words):\n",
        "    # Convert the text into sequences\n",
        "    token_list = tokenizer.texts_to_sequences([seed_text])[0]\n",
        "    # Pad the sequences\n",
        "    token_list = pad_sequences([token_list], maxlen=max_sequence_len-1, padding='pre')\n",
        "    # Get the probabilities of predicting a word\n",
        "    predicted = model.predict(token_list, verbose=0)\n",
        "    # Choose the next word based on the maximum probability\n",
        "    predicted = np.argmax(predicted, axis=-1).item()\n",
        "    # Get the actual word from the word index\n",
        "    output_word = tokenizer.index_word[predicted]\n",
        "    # Append to the current text\n",
        "    seed_text += \" \" + output_word\n",
        "\n",
        "print(seed_text)"
      ],
      "metadata": {
        "colab": {
          "base_uri": "https://localhost:8080/"
        },
        "id": "iQqWX5kaAEma",
        "outputId": "97328ca4-df83-4054-e268-f40296860005"
      },
      "execution_count": 18,
      "outputs": [
        {
          "output_type": "stream",
          "name": "stdout",
          "text": [
            "Aiutami, Obi Wan Kenobi, tu sei la mia unica speranza o i miei cercai laura scoppia sperava chiamata parl'io don ceco di' antichi l'uscio mostrando ond'ogni ben terra perché 'l pianger m'à com'oro intero oltra tutto perdei provede l'andar et merito human non human ond'ogni sormonta honora velo negar sentisse canzon durezze scriva mancata mancata mancata contendi maggior' la diversa et faticoso s'i' fronde fronde vil obiecto ricettando rive preghiera d'acqua humano percosso su l'onde parla mani et merito merito faticoso il pregio il piú amaro pena cresce solo ridir mancata ponente guerra volontaria guerra costor agli occhi col viso cantando pensier' congiurato piove ov'ogni vene over ch'oggi il over\n"
          ]
        }
      ]
    }
  ]
}